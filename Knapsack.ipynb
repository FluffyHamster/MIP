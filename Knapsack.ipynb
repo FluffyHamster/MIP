{
 "cells": [
  {
   "cell_type": "code",
   "execution_count": 1,
   "metadata": {},
   "outputs": [],
   "source": [
    "from mip import Model, xsum, maximize, BINARY, OptimizationStatus"
   ]
  },
  {
   "cell_type": "code",
   "execution_count": 2,
   "metadata": {},
   "outputs": [],
   "source": [
    "import pandas as pd\n",
    "from random import randint, randrange"
   ]
  },
  {
   "cell_type": "markdown",
   "metadata": {},
   "source": [
    "случайным образом выбираем размер массива N в диапазоне (200, 1000)"
   ]
  },
  {
   "cell_type": "code",
   "execution_count": 3,
   "metadata": {},
   "outputs": [
    {
     "name": "stdout",
     "output_type": "stream",
     "text": [
      "n:  225\n"
     ]
    }
   ],
   "source": [
    "n = randint(200, 1000) \n",
    "N = range(n)\n",
    "print(\"n: \", n)"
   ]
  },
  {
   "cell_type": "markdown",
   "metadata": {},
   "source": [
    "случайным образом выбираем четный размер подмн-ва S мн-ва N в диапазоне (2, n)"
   ]
  },
  {
   "cell_type": "code",
   "execution_count": 4,
   "metadata": {},
   "outputs": [
    {
     "name": "stdout",
     "output_type": "stream",
     "text": [
      "s:  24\n"
     ]
    }
   ],
   "source": [
    "s = randrange(2, n, 2)\n",
    "S = range(s)\n",
    "print(\"s: \", s)"
   ]
  },
  {
   "cell_type": "markdown",
   "metadata": {},
   "source": [
    "Ns = N\\S (разность мн-ва N и S) "
   ]
  },
  {
   "cell_type": "code",
   "execution_count": 5,
   "metadata": {},
   "outputs": [],
   "source": [
    "Ns = [j for j in N if j >= len(S)] "
   ]
  },
  {
   "cell_type": "markdown",
   "metadata": {},
   "source": [
    "случайным образом создаем массивы cj и aj в диапозоне (1, 50) и (1, 30) соответственно"
   ]
  },
  {
   "cell_type": "code",
   "execution_count": 6,
   "metadata": {},
   "outputs": [
    {
     "data": {
      "text/html": [
       "<div>\n",
       "<style scoped>\n",
       "    .dataframe tbody tr th:only-of-type {\n",
       "        vertical-align: middle;\n",
       "    }\n",
       "\n",
       "    .dataframe tbody tr th {\n",
       "        vertical-align: top;\n",
       "    }\n",
       "\n",
       "    .dataframe thead th {\n",
       "        text-align: right;\n",
       "    }\n",
       "</style>\n",
       "<table border=\"1\" class=\"dataframe\">\n",
       "  <thead>\n",
       "    <tr style=\"text-align: right;\">\n",
       "      <th></th>\n",
       "      <th>values</th>\n",
       "      <th>weights</th>\n",
       "      <th>values/weights</th>\n",
       "    </tr>\n",
       "  </thead>\n",
       "  <tbody>\n",
       "    <tr>\n",
       "      <th>218</th>\n",
       "      <td>42</td>\n",
       "      <td>1</td>\n",
       "      <td>42.0</td>\n",
       "    </tr>\n",
       "    <tr>\n",
       "      <th>113</th>\n",
       "      <td>35</td>\n",
       "      <td>1</td>\n",
       "      <td>35.0</td>\n",
       "    </tr>\n",
       "    <tr>\n",
       "      <th>33</th>\n",
       "      <td>30</td>\n",
       "      <td>1</td>\n",
       "      <td>30.0</td>\n",
       "    </tr>\n",
       "    <tr>\n",
       "      <th>67</th>\n",
       "      <td>29</td>\n",
       "      <td>1</td>\n",
       "      <td>29.0</td>\n",
       "    </tr>\n",
       "    <tr>\n",
       "      <th>61</th>\n",
       "      <td>27</td>\n",
       "      <td>1</td>\n",
       "      <td>27.0</td>\n",
       "    </tr>\n",
       "    <tr>\n",
       "      <th>194</th>\n",
       "      <td>25</td>\n",
       "      <td>1</td>\n",
       "      <td>25.0</td>\n",
       "    </tr>\n",
       "    <tr>\n",
       "      <th>83</th>\n",
       "      <td>49</td>\n",
       "      <td>2</td>\n",
       "      <td>24.5</td>\n",
       "    </tr>\n",
       "    <tr>\n",
       "      <th>212</th>\n",
       "      <td>40</td>\n",
       "      <td>2</td>\n",
       "      <td>20.0</td>\n",
       "    </tr>\n",
       "    <tr>\n",
       "      <th>154</th>\n",
       "      <td>35</td>\n",
       "      <td>2</td>\n",
       "      <td>17.5</td>\n",
       "    </tr>\n",
       "    <tr>\n",
       "      <th>48</th>\n",
       "      <td>34</td>\n",
       "      <td>2</td>\n",
       "      <td>17.0</td>\n",
       "    </tr>\n",
       "  </tbody>\n",
       "</table>\n",
       "</div>"
      ],
      "text/plain": [
       "     values  weights  values/weights\n",
       "218      42        1            42.0\n",
       "113      35        1            35.0\n",
       "33       30        1            30.0\n",
       "67       29        1            29.0\n",
       "61       27        1            27.0\n",
       "194      25        1            25.0\n",
       "83       49        2            24.5\n",
       "212      40        2            20.0\n",
       "154      35        2            17.5\n",
       "48       34        2            17.0"
      ]
     },
     "execution_count": 6,
     "metadata": {},
     "output_type": "execute_result"
    }
   ],
   "source": [
    "c = [randint(1, 50) for i in N]\n",
    "a = [randint(1, 30) for i in N]\n",
    "c_a = [c[i]/a[i] for i in N]\n",
    "df = pd.DataFrame({'values': c, 'weights': a, 'values/weights': c_a})\n",
    "df.sort_values('values/weights', ascending=False).head(10)"
   ]
  },
  {
   "cell_type": "markdown",
   "metadata": {},
   "source": [
    "случайным образом создаем ограничение b в диапозоне (1, 100)"
   ]
  },
  {
   "cell_type": "code",
   "execution_count": 7,
   "metadata": {},
   "outputs": [
    {
     "name": "stdout",
     "output_type": "stream",
     "text": [
      "b:  88\n"
     ]
    }
   ],
   "source": [
    "b = randint(20, 100)\n",
    "print(\"b: \", b)"
   ]
  },
  {
   "cell_type": "markdown",
   "metadata": {},
   "source": [
    "# создаем модель"
   ]
  },
  {
   "cell_type": "code",
   "execution_count": 8,
   "metadata": {},
   "outputs": [
    {
     "name": "stdout",
     "output_type": "stream",
     "text": [
      "status Optimal:  True\n"
     ]
    }
   ],
   "source": [
    "m = Model(\"knapsack\")\n",
    "\n",
    "# элементы решения xj = {0, 1}\n",
    "x = [m.add_var(var_type=BINARY) for j in N]\n",
    "\n",
    "# целевая функция\n",
    "m.objective = maximize(xsum(c[j] * x[j] for j in N))\n",
    "\n",
    "# добовляем ограничения\n",
    "m += xsum(a[j] * x[j] for j in N) <= b\n",
    "\n",
    "m.add_lazy_constr(xsum(x[j] for j in S) - xsum(x[j] for j in Ns) <= len(S) - 1)\n",
    "\n",
    "status = m.optimize(max_seconds=300)\n",
    "\n",
    "print(\"status Optimal: \", status == OptimizationStatus.OPTIMAL)"
   ]
  },
  {
   "cell_type": "markdown",
   "metadata": {},
   "source": [
    "## Результат"
   ]
  },
  {
   "cell_type": "code",
   "execution_count": 9,
   "metadata": {},
   "outputs": [],
   "source": [
    "def usefullness(t):\n",
    "        return t[1] / t[2]\n",
    "    \n",
    "def exchange_item(items, total_items):\n",
    "    \n",
    "    items_big_size = []\n",
    "    for item in items:\n",
    "        if item[2] > 1:\n",
    "            items_big_size.append(item)\n",
    "            \n",
    "    def change(items_big_size, total_items):\n",
    "        \n",
    "        total_items_new = []\n",
    "        \n",
    "        for item in items_big_size:\n",
    "            for t_item in total_items:\n",
    "                if item[0] != t_item[0]:\n",
    "                    if item[2] > t_item[2]:\n",
    "                        total_items_new.append(t_item)\n",
    "        \n",
    "        n = len(total_items_new)\n",
    "        items_new_odd = {}\n",
    "        \n",
    "        for item in items_big_size:\n",
    "            b = item[2]\n",
    "            \n",
    "            model = Model(\"knapsack\")\n",
    "\n",
    "            x = [model.add_var(var_type=BINARY) for i in range(n)]\n",
    "            model.objective = maximize(xsum(total_items_new[i][1] * x[i] for i in range(n)))\n",
    "            model += xsum(total_items_new[i][2] * x[i] for i in range(n)) <= b\n",
    "            model.optimize(max_seconds=300)\n",
    "            selected = [i for i in range(n) if x[i].x >= 0.99]\n",
    "            if len(selected) % 2 == 0:\n",
    "                items_new_odd[item[0]] = [(i, total_items_new[i][1], total_items_new[i][2]) for i in selected]\n",
    "        \n",
    "        if len(items_new_odd) == 0:\n",
    "            print(\"No optimal possibility of odd items\")\n",
    "            return items\n",
    "        \n",
    "        max_c = 0\n",
    "        for item_odd in items_new_odd:\n",
    "            sum_c = sum([i[1] for i in items_new_odd[item_odd]])\n",
    "            if sum_c > max_c:\n",
    "                max_c = sum_c\n",
    "                items_new = items_new_odd[item_odd]\n",
    "                index = item_odd\n",
    "        \n",
    "        return items_new, index\n",
    "    \n",
    "    if len(items_big_size) == 0:  \n",
    "        items.sort(key=usefullness, reverse=True) \n",
    "        return items, items[-1][0]\n",
    "    \n",
    "    else:\n",
    "        return change(items_big_size, total_items)   "
   ]
  },
  {
   "cell_type": "code",
   "execution_count": 10,
   "metadata": {},
   "outputs": [],
   "source": [
    "    \n",
    "selected = [j for j in N if x[j].x >= 0.99]\n",
    "selected.sort()\n",
    "\n",
    "count_items = len(selected)\n",
    "\n",
    "items = [(i, c[i], a[i]) for i in selected]\n",
    "items.sort(key=usefullness, reverse=True) \n",
    "\n",
    "total_items = [(i, c[i], a[i]) for i in N]\n"
   ]
  },
  {
   "cell_type": "code",
   "execution_count": 11,
   "metadata": {},
   "outputs": [
    {
     "name": "stdout",
     "output_type": "stream",
     "text": [
      "len(N) =  225\n",
      "len(S) =  24\n",
      "b =  88\n",
      "_____________\n",
      "even:  28\n",
      "try even -> odd \n",
      "replase  (176, 49, 6) on [(15, 42, 1), (62, 42, 1), (70, 42, 1), (89, 42, 1), (242, 42, 1), (399, 42, 1)]\n",
      "items count:  33\n",
      "value:  1147 , size:  88 , capacities:  88\n",
      "_____________\n",
      "     values  weights\n",
      "218      42        1\n",
      "15       42        1\n",
      "62       42        1\n",
      "70       42        1\n",
      "89       42        1\n",
      "242      42        1\n",
      "399      42        1\n",
      "113      35        1\n",
      "33       30        1\n",
      "67       29        1\n",
      "61       27        1\n",
      "194      25        1\n",
      "83       49        2\n",
      "212      40        2\n",
      "154      35        2\n",
      "48       34        2\n",
      "38       50        3\n",
      "109      25        2\n",
      "107      23        2\n",
      "157       9        1\n",
      "125      17        2\n",
      "191      34        4\n",
      "164      42        5\n",
      "40       48        6\n",
      "89       48        6\n",
      "92       45        6\n",
      "25       43        6\n",
      "111      21        3\n",
      "175      28        4\n",
      "132      27        4\n",
      "143      27        4\n",
      "51       31        5\n",
      "220      31        5\n",
      "_____________\n"
     ]
    }
   ],
   "source": [
    "print(\"len(N) = \", n)\n",
    "print(\"len(S) = \", s)\n",
    "print(\"b = \", b)\n",
    "print(\"_____________\")\n",
    "\n",
    "    \n",
    "if count_items % 2 == 0:\n",
    "    print(\"even: \", count_items)\n",
    "    print(\"try even -> odd \")\n",
    "    \n",
    "    result = exchange_item(items, total_items)\n",
    "    \n",
    "    print(\"replase \", (result[1], c[result[1]], a[result[1]]), \"on\", result[0])\n",
    "    items_new = result[0]\n",
    "    index_pop = result[1]\n",
    "    for i in range(len(items)):\n",
    "        if items[i][0] == index_pop:\n",
    "            items.pop(i)\n",
    "            break\n",
    "\n",
    "    items = items + items_new\n",
    "\n",
    "    print(\"items count: \", len(items)) \n",
    "    size = 0\n",
    "    value = 0\n",
    "    for t in items:\n",
    "        size = size + t[2]\n",
    "        value = value + t[1]\n",
    "\n",
    "    items.sort(key=usefullness, reverse=True)  \n",
    "\n",
    "    print(\"value: \", value, \", size: \", size, \", capacities: \", b)\n",
    "    print(\"_____________\")\n",
    "    print(pd.DataFrame({'values': [t[1] for t in items], 'weights': [t[2] for t in items]}, index=[t[0] for t in items]))\n",
    "    print(\"_____________\")\n",
    "\n",
    "else: \n",
    "    print(\"odd: \", count_items)\n",
    "    print(\"selected items: {}\".format(selected))\n",
    "    print(\"_____________\")\n",
    "    print(\"items count: \", len(selected))\n",
    "\n",
    "    size = 0\n",
    "    value = 0\n",
    "    for t in items:\n",
    "        size = size + t[2]\n",
    "        value = value + t[1]\n",
    "\n",
    "    items.sort(key=usefullness, reverse=True)  \n",
    "\n",
    "    print(\"value: \", value, \", size: \", size, \", capacities: \", b)\n",
    "    print(\"_____________\")\n",
    "    print(pd.DataFrame({'values': [t[1] for t in items], 'weights': [t[2] for t in items]}, index=[t[0] for t in items]))\n",
    "    print(\"_____________\")"
   ]
  },
  {
   "cell_type": "code",
   "execution_count": 12,
   "metadata": {},
   "outputs": [],
   "source": [
    "# сохранение модели\n",
    "m.write('model_knapsack.lp')"
   ]
  },
  {
   "cell_type": "code",
   "execution_count": null,
   "metadata": {},
   "outputs": [],
   "source": []
  }
 ],
 "metadata": {
  "kernelspec": {
   "display_name": "Python 3",
   "language": "python",
   "name": "python3"
  },
  "language_info": {
   "codemirror_mode": {
    "name": "ipython",
    "version": 3
   },
   "file_extension": ".py",
   "mimetype": "text/x-python",
   "name": "python",
   "nbconvert_exporter": "python",
   "pygments_lexer": "ipython3",
   "version": "3.8.6"
  }
 },
 "nbformat": 4,
 "nbformat_minor": 4
}
